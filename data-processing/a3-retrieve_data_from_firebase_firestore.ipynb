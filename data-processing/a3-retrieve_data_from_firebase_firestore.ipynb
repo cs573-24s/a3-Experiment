{
 "cells": [
  {
   "cell_type": "code",
   "execution_count": 2,
   "id": "6db83cf7",
   "metadata": {},
   "outputs": [],
   "source": [
    "import pandas as pd"
   ]
  },
  {
   "cell_type": "code",
   "execution_count": 3,
   "id": "1c8e5a2a",
   "metadata": {},
   "outputs": [],
   "source": [
    "import firebase_admin\n",
    "from firebase_admin import credentials\n",
    "from firebase_admin import firestore"
   ]
  },
  {
   "cell_type": "code",
   "execution_count": 4,
   "id": "d92357aa",
   "metadata": {},
   "outputs": [
    {
     "data": {
      "text/plain": [
       "<firebase_admin.App at 0x7f7ce9f627f0>"
      ]
     },
     "execution_count": 4,
     "metadata": {},
     "output_type": "execute_result"
    }
   ],
   "source": [
    "cred = firebase_admin.credentials.Certificate(\"path/to/my/credentials.json\")\n",
    "firebase_admin.initialize_app(cred)"
   ]
  },
  {
   "cell_type": "code",
   "execution_count": 5,
   "id": "fb41d597",
   "metadata": {},
   "outputs": [],
   "source": [
    "db = firebase_admin.firestore.client()"
   ]
  },
  {
   "cell_type": "code",
   "execution_count": 6,
   "id": "275ecca2",
   "metadata": {},
   "outputs": [],
   "source": [
    "collection_ref = db.collection('prod-test-demo')"
   ]
  },
  {
   "cell_type": "code",
   "execution_count": 65,
   "id": "b560ff18",
   "metadata": {},
   "outputs": [],
   "source": [
    "docs = collection_ref.get()"
   ]
  },
  {
   "cell_type": "code",
   "execution_count": 66,
   "id": "6d1e34e9",
   "metadata": {},
   "outputs": [
    {
     "data": {
      "text/plain": [
       "59"
      ]
     },
     "execution_count": 66,
     "metadata": {},
     "output_type": "execute_result"
    }
   ],
   "source": [
    "len(docs)"
   ]
  },
  {
   "cell_type": "code",
   "execution_count": 67,
   "id": "82c929cd",
   "metadata": {
    "scrolled": true
   },
   "outputs": [
    {
     "data": {
      "text/plain": [
       "{'participantConfigHash': '007de1238293d6ffad95ea99de24cc7e60ddfad7d41e7bd79e1c79621f3339ff',\n",
       " 'searchParams': {},\n",
       " 'answers': {'TreeMap1': {'startTime': 1710601046869,\n",
       "   'answer': {'cm-response': 70},\n",
       "   'endTime': 1710601086910},\n",
       "  'PieChart1': {'startTime': 1710600874628,\n",
       "   'answer': {'cm-response': 60},\n",
       "   'endTime': 1710600916921},\n",
       "  'PieChart5': {'startTime': 1710600586633,\n",
       "   'answer': {'cm-response': 92},\n",
       "   'endTime': 1710600674668},\n",
       "  'TreeMap4': {'startTime': 1710601006537,\n",
       "   'answer': {'cm-response': 95},\n",
       "   'endTime': 1710601046854},\n",
       "  'PieChart12': {'startTime': 1710600674689,\n",
       "   'answer': {'cm-response': 60},\n",
       "   'endTime': 1710600727380},\n",
       "  'PieChart11': {'startTime': 1710600555492,\n",
       "   'answer': {'cm-response': 15},\n",
       "   'endTime': 1710600586615},\n",
       "  'TreeMap7': {'startTime': 1710600916945,\n",
       "   'answer': {'cm-response': 50},\n",
       "   'endTime': 1710600941571},\n",
       "  'DonutChart7': {'startTime': 1710601219198,\n",
       "   'answer': {'cm-response': 85},\n",
       "   'endTime': 1710601253989},\n",
       "  'StackedBarChart1': {'startTime': 1710600521084,\n",
       "   'answer': {'cm-response': 15},\n",
       "   'endTime': 1710600555468},\n",
       "  'PieChart4': {'startTime': 1710600766122,\n",
       "   'answer': {'cm-response': 55},\n",
       "   'endTime': 1710600804042},\n",
       "  'TreeMap12': {'startTime': 1710600727396,\n",
       "   'answer': {'cm-response': 65},\n",
       "   'endTime': 1710600766104},\n",
       "  'PieChart7': {'startTime': 1710600804059,\n",
       "   'answer': {'cm-response': 85},\n",
       "   'endTime': 1710600835455},\n",
       "  'StackedBarChart9': {'startTime': 1710601118609,\n",
       "   'answer': {'cm-response': 55},\n",
       "   'endTime': 1710601176908},\n",
       "  'DonutChart9': {'startTime': 1710601086928,\n",
       "   'answer': {'cm-response': 60},\n",
       "   'endTime': 1710601118571},\n",
       "  'TreeMap9': {'startTime': 1710601325238,\n",
       "   'answer': {'cm-response': 55},\n",
       "   'endTime': 1710601364287},\n",
       "  'StackedBarChart2': {'startTime': 1710601312427,\n",
       "   'answer': {'cm-response': 65},\n",
       "   'endTime': 1710601325216},\n",
       "  'TreeMap11': {'startTime': 1710600835476,\n",
       "   'answer': {'cm-response': 20},\n",
       "   'endTime': 1710600874610},\n",
       "  'StackedBarChart4': {'startTime': 1710600466213,\n",
       "   'answer': {'cm-response': 30},\n",
       "   'endTime': 1710600521067},\n",
       "  'TreeMap5': {'startTime': 1710601176925,\n",
       "   'answer': {'cm-response': 20},\n",
       "   'endTime': 1710601219180},\n",
       "  'PieChart9': {'startTime': 1710600941593,\n",
       "   'answer': {'cm-response': 60},\n",
       "   'endTime': 1710601006518},\n",
       "  'introduction': {'startTime': 1710600460187,\n",
       "   'answer': {},\n",
       "   'endTime': 1710600466160}},\n",
       " 'participantId': '176ROwHUE5I5wFcKITdr',\n",
       " 'sequence': ['introduction',\n",
       "  'StackedBarChart4',\n",
       "  'StackedBarChart1',\n",
       "  'PieChart11',\n",
       "  'PieChart5',\n",
       "  'PieChart12',\n",
       "  'TreeMap12',\n",
       "  'PieChart4',\n",
       "  'PieChart7',\n",
       "  'TreeMap11',\n",
       "  'PieChart1',\n",
       "  'TreeMap7',\n",
       "  'PieChart9',\n",
       "  'TreeMap4',\n",
       "  'TreeMap1',\n",
       "  'DonutChart9',\n",
       "  'StackedBarChart9',\n",
       "  'TreeMap5',\n",
       "  'DonutChart7',\n",
       "  'StackedBarChart2',\n",
       "  'TreeMap9',\n",
       "  'end']}"
      ]
     },
     "execution_count": 67,
     "metadata": {},
     "output_type": "execute_result"
    }
   ],
   "source": [
    "docs[0].to_dict()"
   ]
  },
  {
   "cell_type": "markdown",
   "id": "e2958e10",
   "metadata": {},
   "source": [
    "### extract survey responses"
   ]
  },
  {
   "cell_type": "code",
   "execution_count": 68,
   "id": "20b967c6",
   "metadata": {},
   "outputs": [],
   "source": [
    "def generate_answers(d):\n",
    "    temp = {}\n",
    "    for k, v in d.items():\n",
    "        if k == 'answers':\n",
    "            for q, r in v.items():\n",
    "                if q == 'introduction':\n",
    "                    continue\n",
    "                val = r['answer']['cm-response']\n",
    "                temp[q] = val\n",
    "        elif k == 'participantId':\n",
    "            temp['participantId'] = v\n",
    "    return temp"
   ]
  },
  {
   "cell_type": "code",
   "execution_count": 69,
   "id": "a030d14b",
   "metadata": {},
   "outputs": [],
   "source": [
    "def combiner_answers(docs, func):\n",
    "    arr = []\n",
    "    for i in range(len(docs)):\n",
    "        individual_res = func(docs[i].to_dict())\n",
    "        arr.append(individual_res)\n",
    "    return arr"
   ]
  },
  {
   "cell_type": "code",
   "execution_count": 70,
   "id": "0c32975f",
   "metadata": {},
   "outputs": [],
   "source": [
    "all_responses = combiner_answers(docs, func=generate_answers)"
   ]
  },
  {
   "cell_type": "code",
   "execution_count": 72,
   "id": "5f06041e",
   "metadata": {},
   "outputs": [],
   "source": [
    "df = pd.DataFrame(all_responses)"
   ]
  },
  {
   "cell_type": "code",
   "execution_count": 74,
   "id": "35dc1949",
   "metadata": {},
   "outputs": [
    {
     "data": {
      "text/plain": [
       "Index(['TreeMap1', 'PieChart1', 'PieChart5', 'TreeMap4', 'PieChart12',\n",
       "       'PieChart11', 'TreeMap7', 'DonutChart7', 'StackedBarChart1',\n",
       "       'PieChart4', 'TreeMap12', 'PieChart7', 'StackedBarChart9',\n",
       "       'DonutChart9', 'TreeMap9', 'StackedBarChart2', 'TreeMap11',\n",
       "       'StackedBarChart4', 'TreeMap5', 'PieChart9', 'participantId',\n",
       "       'DonutChart3', 'DonutChart6', 'StackedBarChart8', 'PieChart8',\n",
       "       'TreeMap8', 'StackedBarChart12', 'DonutChart1', 'StackedBarChart6',\n",
       "       'StackedBarChart10', 'TreeMap10', 'PieChart2', 'PieChart6',\n",
       "       'PieChart10', 'DonutChart12', 'DonutChart10', 'StackedBarChart5',\n",
       "       'TreeMap2', 'StackedBarChart7', 'DonutChart5', 'DonutChart4',\n",
       "       'DonutChart2', 'StackedBarChart3', 'TreeMap6', 'DonutChart11',\n",
       "       'DonutChart8', 'StackedBarChart11', 'PieChart3', 'TreeMap3'],\n",
       "      dtype='object')"
      ]
     },
     "execution_count": 74,
     "metadata": {},
     "output_type": "execute_result"
    }
   ],
   "source": [
    "df.columns"
   ]
  },
  {
   "cell_type": "code",
   "execution_count": 78,
   "id": "c3ef036a",
   "metadata": {},
   "outputs": [],
   "source": [
    "res_df = df[['participantId',\\\n",
    "    'DonutChart1','DonutChart2','DonutChart3','DonutChart4','DonutChart5','DonutChart6',\\\n",
    "   'DonutChart7','DonutChart8','DonutChart9','DonutChart10', 'DonutChart11', 'DonutChart12', \\\n",
    "   'PieChart1','PieChart2','PieChart3', 'PieChart4', 'PieChart5', 'PieChart6', \\\n",
    "   'PieChart7', 'PieChart8', 'PieChart9', 'PieChart10', 'PieChart11', 'PieChart12',\\\n",
    "   'StackedBarChart1',  'StackedBarChart2', 'StackedBarChart3', 'StackedBarChart4', 'StackedBarChart5',\\\n",
    "   'StackedBarChart6', 'StackedBarChart7', 'StackedBarChart8', 'StackedBarChart9','StackedBarChart10', \\\n",
    "   'StackedBarChart11', 'StackedBarChart12', \\\n",
    "   'TreeMap1', 'TreeMap2', 'TreeMap3', 'TreeMap4', 'TreeMap5', 'TreeMap6', \\\n",
    "   'TreeMap7', 'TreeMap8', 'TreeMap9','TreeMap10', 'TreeMap11', 'TreeMap12']]"
   ]
  },
  {
   "cell_type": "code",
   "execution_count": 79,
   "id": "ac407f55",
   "metadata": {},
   "outputs": [],
   "source": [
    "res_df.to_csv('all_responses.csv', index=False)"
   ]
  },
  {
   "cell_type": "markdown",
   "id": "14aa21c5",
   "metadata": {},
   "source": [
    "### extract time spend on each question"
   ]
  },
  {
   "cell_type": "code",
   "execution_count": 50,
   "id": "ef0aa135",
   "metadata": {},
   "outputs": [],
   "source": [
    "def generate_time(d):\n",
    "    temp = {}\n",
    "    for k, v in d.items():\n",
    "        if k == 'answers':\n",
    "            for q, r in v.items():\n",
    "                if q == 'introduction':\n",
    "                    continue\n",
    "                dur = (r['endTime']-r['startTime']) / 1000\n",
    "                temp[q] = dur\n",
    "        elif k == 'participantId':\n",
    "            temp['participantId'] = v\n",
    "    return temp"
   ]
  },
  {
   "cell_type": "code",
   "execution_count": 54,
   "id": "a2a0feaa",
   "metadata": {},
   "outputs": [],
   "source": [
    "all_duration = combiner_answers(docs, func=generate_time)\n",
    "pd.DataFrame(all_duration).to_csv('all_duration.csv', index=False)"
   ]
  },
  {
   "cell_type": "code",
   "execution_count": null,
   "id": "7a4ddbe9",
   "metadata": {},
   "outputs": [],
   "source": []
  },
  {
   "cell_type": "code",
   "execution_count": null,
   "id": "d2af43e2",
   "metadata": {},
   "outputs": [],
   "source": []
  },
  {
   "cell_type": "code",
   "execution_count": null,
   "id": "f492578e",
   "metadata": {},
   "outputs": [],
   "source": []
  },
  {
   "cell_type": "code",
   "execution_count": 46,
   "id": "e45190c0",
   "metadata": {},
   "outputs": [
    {
     "data": {
      "text/plain": [
       "TreeMap1           2024-03-16 14:57:26.869\n",
       "PieChart1          2024-03-16 14:54:34.628\n",
       "PieChart5          2024-03-16 14:49:46.633\n",
       "TreeMap4           2024-03-16 14:56:46.537\n",
       "PieChart12         2024-03-16 14:51:14.689\n",
       "PieChart11         2024-03-16 14:49:15.492\n",
       "TreeMap7           2024-03-16 14:55:16.945\n",
       "DonutChart7        2024-03-16 15:00:19.198\n",
       "StackedBarChart1   2024-03-16 14:48:41.084\n",
       "PieChart4          2024-03-16 14:52:46.122\n",
       "TreeMap12          2024-03-16 14:52:07.396\n",
       "PieChart7          2024-03-16 14:53:24.059\n",
       "StackedBarChart9   2024-03-16 14:58:38.609\n",
       "DonutChart9        2024-03-16 14:58:06.928\n",
       "TreeMap9           2024-03-16 15:02:05.238\n",
       "StackedBarChart2   2024-03-16 15:01:52.427\n",
       "TreeMap11          2024-03-16 14:53:55.476\n",
       "StackedBarChart4   2024-03-16 14:47:46.213\n",
       "TreeMap5           2024-03-16 14:59:36.925\n",
       "PieChart9          2024-03-16 14:55:41.593\n",
       "introduction       2024-03-16 14:47:40.187\n",
       "Name: startTime, dtype: datetime64[ns]"
      ]
     },
     "execution_count": 46,
     "metadata": {},
     "output_type": "execute_result"
    }
   ],
   "source": [
    "pd.to_datetime(temp_df.loc['startTime'],unit='ms')"
   ]
  },
  {
   "cell_type": "code",
   "execution_count": null,
   "id": "a30f0761",
   "metadata": {},
   "outputs": [],
   "source": []
  }
 ],
 "metadata": {
  "kernelspec": {
   "display_name": "Python 3 (ipykernel)",
   "language": "python",
   "name": "python3"
  },
  "language_info": {
   "codemirror_mode": {
    "name": "ipython",
    "version": 3
   },
   "file_extension": ".py",
   "mimetype": "text/x-python",
   "name": "python",
   "nbconvert_exporter": "python",
   "pygments_lexer": "ipython3",
   "version": "3.9.17"
  }
 },
 "nbformat": 4,
 "nbformat_minor": 5
}
